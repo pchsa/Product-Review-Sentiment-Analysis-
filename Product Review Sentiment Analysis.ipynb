{
 "cells": [
  {
   "cell_type": "markdown",
   "id": "0109e065",
   "metadata": {},
   "source": [
    "## Task 1: Data Preparation"
   ]
  },
  {
   "cell_type": "code",
   "execution_count": 1,
   "id": "56846edd",
   "metadata": {},
   "outputs": [],
   "source": [
    "# import libaries\n",
    "import pandas as pd\n",
    "import numpy as np\n",
    "import seaborn as sns\n",
    "\n",
    "pd.set_option('display.precision', 2)\n",
    "\n",
    "# load the data\n",
    "dataset = pd.read_csv(\"dataset.csv\")\n",
    "\n",
    "\n",
    "# Get only id, score and text\n",
    "dataset = dataset[[\"Id\", \"Score\", \"Text\"]]"
   ]
  },
  {
   "cell_type": "markdown",
   "id": "02216301",
   "metadata": {},
   "source": [
    "Only the columns ‘Id’, ‘Score’ and ‘Text’ are used, and so the other columns are omitted from the dataset."
   ]
  },
  {
   "cell_type": "markdown",
   "id": "ddba734f",
   "metadata": {},
   "source": [
    "### Sentiment Analysis"
   ]
  },
  {
   "cell_type": "code",
   "execution_count": 2,
   "id": "b4cbd4d0",
   "metadata": {},
   "outputs": [],
   "source": [
    "# Add new col \"Label\"\n",
    "dataset[\"Label\"] = np.where(dataset[\"Score\"] > 3, \"pos\", \"neg\")\n",
    "\n",
    "# Ignore rows with Score = 3\n",
    "dataset = dataset.loc[(dataset[\"Score\"] != 3)]\n",
    "\n",
    "# dataset[\"Label\"].value_counts()"
   ]
  },
  {
   "cell_type": "markdown",
   "id": "09c18696",
   "metadata": {},
   "source": [
    "To perform sentiment analysis, the dataset was annotated using the already provided score column. Scores above 3 (4, 5) were assigned positive and scores under 3 (1, 2) were assigned negative. A score of exactly 3 suggested a neutral score and so were removed from the list."
   ]
  },
  {
   "cell_type": "markdown",
   "id": "2ac3e5f0",
   "metadata": {},
   "source": [
    "### Check Duplicates"
   ]
  },
  {
   "cell_type": "code",
   "execution_count": 3,
   "id": "5c596143",
   "metadata": {},
   "outputs": [
    {
     "data": {
      "text/plain": [
       "0"
      ]
     },
     "execution_count": 3,
     "metadata": {},
     "output_type": "execute_result"
    }
   ],
   "source": [
    "# count number of duplicates in the data\n",
    "dataset.duplicated().sum()"
   ]
  },
  {
   "cell_type": "markdown",
   "id": "78ff196a",
   "metadata": {},
   "source": [
    "There are no duplicates in the data."
   ]
  },
  {
   "cell_type": "markdown",
   "id": "e365cdc4",
   "metadata": {},
   "source": [
    "### Score Column"
   ]
  },
  {
   "cell_type": "code",
   "execution_count": 4,
   "id": "0625f88a",
   "metadata": {},
   "outputs": [
    {
     "name": "stdout",
     "output_type": "stream",
     "text": [
      "count    28054.00\n",
      "mean         4.23\n",
      "std          1.37\n",
      "min          1.00\n",
      "25%          4.00\n",
      "50%          5.00\n",
      "75%          5.00\n",
      "max          5.00\n",
      "Name: Score, dtype: float64\n"
     ]
    },
    {
     "data": {
      "text/plain": [
       "5    19354\n",
       "4     3874\n",
       "1     3162\n",
       "2     1664\n",
       "Name: Score, dtype: int64"
      ]
     },
     "execution_count": 4,
     "metadata": {},
     "output_type": "execute_result"
    },
    {
     "data": {
      "image/png": "[encoded data removed]",
      "text/plain": [
       "<Figure size 432x288 with 1 Axes>"
      ]
     },
     "metadata": {
      "needs_background": "light"
     },
     "output_type": "display_data"
    }
   ],
   "source": [
    "# create histogram\n",
    "sns.countplot(data=dataset, x=\"Score\").set(title=\"Distribution of Score\")\n",
    "\n",
    "#describe values\n",
    "print(dataset[\"Score\"].describe())\n",
    "\n",
    "#count values\n",
    "dataset[\"Score\"].value_counts()"
   ]
  },
  {
   "cell_type": "markdown",
   "id": "2147b13c",
   "metadata": {},
   "source": [
    "It can be seen that the overwhelming majority of reviews gave a score of 5, with approx. 69% (19354 of 28054) giving this score. This resulted in the average score given as 4.23. The least likely score given is 2, with only 5.9% (1664 of 28054) giving this score."
   ]
  },
  {
   "cell_type": "markdown",
   "id": "646f5245",
   "metadata": {},
   "source": [
    "### Label Column"
   ]
  },
  {
   "cell_type": "code",
   "execution_count": 5,
   "id": "2dd23fc5",
   "metadata": {},
   "outputs": [
    {
     "data": {
      "text/plain": [
       "pos    23228\n",
       "neg     4826\n",
       "Name: Label, dtype: int64"
      ]
     },
     "execution_count": 5,
     "metadata": {},
     "output_type": "execute_result"
    },
    {
     "data": {
      "image/png": "[encoded data removed]",
      "text/plain": [
       "<Figure size 432x288 with 1 Axes>"
      ]
     },
     "metadata": {
      "needs_background": "light"
     },
     "output_type": "display_data"
    }
   ],
   "source": [
    "# create histogram\n",
    "sns.countplot(data=dataset, x=\"Label\").set(title=\"Distribution of Label\")\n",
    "\n",
    "dataset[\"Label\"].value_counts()"
   ]
  },
  {
   "cell_type": "markdown",
   "id": "9a780206",
   "metadata": {},
   "source": [
    "Likewise, the overwhelming majority of reviews had a positive sentiment. There are 23288 positive reviews and only 4826 negative reviews. For every negative review, there is approximately 4.8 positive reviews."
   ]
  },
  {
   "cell_type": "markdown",
   "id": "035e37f9",
   "metadata": {},
   "source": [
    "## Task 2: Data Cleaning"
   ]
  },
  {
   "cell_type": "markdown",
   "id": "bc8720e7",
   "metadata": {},
   "source": [
    "A couple texts were analysed to see certain qualities that need to be cleaned."
   ]
  },
  {
   "cell_type": "code",
   "execution_count": 6,
   "id": "c90bf177",
   "metadata": {},
   "outputs": [
    {
     "data": {
      "text/plain": [
       "\"I found it much tastier than the plain tuna pouches out there. Excellent quality, and no need to 'dress it up'.<br /><br />I put it the micro on about 20% power for 1 minute and Shazam!<br /><br />I believe a little heating brings out the flavor.\""
      ]
     },
     "execution_count": 6,
     "metadata": {},
     "output_type": "execute_result"
    }
   ],
   "source": [
    "dataset.loc[18, \"Text\"]"
   ]
  },
  {
   "cell_type": "code",
   "execution_count": 7,
   "id": "8fcc5ac5",
   "metadata": {},
   "outputs": [
    {
     "data": {
      "text/plain": [
       "'I bought this with the Presto 04830 PowerPop Microwave Multi-Popper back in July and have been very, very pleased.  Almost no kernels left in the bottom and fluffy, large popcorn.  Getting ready to reorder so I thought I would pass it on.<a href=\"http://www.amazon.com/gp/product/B00005IBXK\">Presto 04830 PowerPop Microwave Multi-Popper</a>'"
      ]
     },
     "execution_count": 7,
     "metadata": {},
     "output_type": "execute_result"
    }
   ],
   "source": [
    "dataset.loc[503, \"Text\"]"
   ]
  },
  {
   "cell_type": "markdown",
   "id": "74223bb2",
   "metadata": {},
   "source": [
    "It can be noticed there are html tags such as break or links, and also wierd characters and numbers. Since these are not useful for the data analysis, they will be removed, leaving only words."
   ]
  },
  {
   "cell_type": "code",
   "execution_count": 8,
   "id": "71518346",
   "metadata": {},
   "outputs": [],
   "source": [
    "import re\n",
    "\n",
    "def clean_text(text):\n",
    "    # remove all html tags\n",
    "    text = re.sub(\"<[^>]*>\", \" \", text)\n",
    "    \n",
    "    # remove any weird characters\n",
    "    text = re.sub(r\"[^A-Za-z*'-]+\", \" \", text)\n",
    "    \n",
    "    # convert text to lowercase\n",
    "    text = text.lower().strip()\n",
    "    \n",
    "    return text"
   ]
  },
  {
   "cell_type": "code",
   "execution_count": 9,
   "id": "7d044427",
   "metadata": {},
   "outputs": [],
   "source": [
    "dataset[\"Text\"] = dataset[\"Text\"].apply(clean_text)"
   ]
  },
  {
   "cell_type": "code",
   "execution_count": 10,
   "id": "83385145",
   "metadata": {},
   "outputs": [
    {
     "data": {
      "text/plain": [
       "\"i found it much tastier than the plain tuna pouches out there excellent quality and no need to 'dress it up' i put it the micro on about power for minute and shazam i believe a little heating brings out the flavor\""
      ]
     },
     "execution_count": 10,
     "metadata": {},
     "output_type": "execute_result"
    }
   ],
   "source": [
    "dataset.loc[18, \"Text\"]"
   ]
  },
  {
   "cell_type": "code",
   "execution_count": 11,
   "id": "aad9cb36",
   "metadata": {},
   "outputs": [
    {
     "data": {
      "text/plain": [
       "'i bought this with the presto powerpop microwave multi-popper back in july and have been very very pleased almost no kernels left in the bottom and fluffy large popcorn getting ready to reorder so i thought i would pass it on presto powerpop microwave multi-popper'"
      ]
     },
     "execution_count": 11,
     "metadata": {},
     "output_type": "execute_result"
    }
   ],
   "source": [
    "dataset.loc[503, \"Text\"]"
   ]
  },
  {
   "cell_type": "markdown",
   "id": "39c229e9",
   "metadata": {},
   "source": [
    "It can be seen that after applying the clean_text() function, the remaining text only contains words useful for data analysis."
   ]
  },
  {
   "cell_type": "markdown",
   "id": "0cdaf45d",
   "metadata": {},
   "source": [
    "#### Explanation\n",
    "The purpose of cleaning the text is to unnecessary text that may negatively impact the accuracy of the logistic regeression. To do this, example text was first investigated. It was found that the next contained html tags and wierd characters that are not useful. Additinally text should be made all lowercase to be consistent. To clean this, a function was made using regex that would remove all html tags (all text that surrounded by '<' and '>') all weird characters (leave only letters and -) and make text lowercase. This function was applied to the entire text column, cleaning the dataset."
   ]
  },
  {
   "cell_type": "markdown",
   "id": "5feb81aa",
   "metadata": {},
   "source": [
    "## Task 3: Logistic Regression"
   ]
  },
  {
   "cell_type": "markdown",
   "id": "9267ac81",
   "metadata": {},
   "source": [
    "The data is split into train and test set. 70% of rows (train) will be used to develop the text and 30% of rows (test) will be used to evaluate the model."
   ]
  },
  {
   "cell_type": "code",
   "execution_count": 12,
   "id": "0131a788",
   "metadata": {},
   "outputs": [],
   "source": [
    "import numpy as np\n",
    "from sklearn.model_selection import train_test_split\n",
    "\n",
    "# define random state to make random processes reproducible\n",
    "random_state = np.random.RandomState(0)"
   ]
  },
  {
   "cell_type": "code",
   "execution_count": 13,
   "id": "5d4b64e1",
   "metadata": {},
   "outputs": [],
   "source": [
    "# Define X(features) and y(target)\n",
    "X = dataset[\"Text\"]\n",
    "y = dataset[\"Label\"]\n",
    "\n",
    "# split the data into train-test split where 30% of data will be used as test set\n",
    "X_train, X_test, y_train, y_test = train_test_split(X, y, test_size=0.3, shuffle=True, random_state=random_state)"
   ]
  },
  {
   "cell_type": "markdown",
   "id": "7f677c48",
   "metadata": {},
   "source": [
    "The text is converted to a numeric vector, suitable for inputting into a logistic regression model. This is done by representing the text as a bag of words, the number of times a particular word appears in each text is kept track of."
   ]
  },
  {
   "cell_type": "code",
   "execution_count": 14,
   "id": "a81392ca",
   "metadata": {},
   "outputs": [],
   "source": [
    "from sklearn.feature_extraction.text import CountVectorizer\n",
    "import nltk\n",
    "# nltk.download('stopwords')\n",
    "from nltk.corpus import stopwords"
   ]
  },
  {
   "cell_type": "code",
   "execution_count": 15,
   "id": "4439db0f",
   "metadata": {},
   "outputs": [],
   "source": [
    "# define stop words\n",
    "stop_words = stopwords.words('english')"
   ]
  },
  {
   "cell_type": "code",
   "execution_count": 16,
   "id": "2a0a8b17",
   "metadata": {},
   "outputs": [],
   "source": [
    "# define CountVectorizer object\n",
    "# min_df=0.01 means words that belong to only 1% of the all tweets will be excluded in the BOW\n",
    "vectorizer = CountVectorizer(stop_words=stopwords.words('english'), min_df=0.01)\n",
    "# vectorizer = CountVectorizer(stop_words=stopwords.words('english'))\n",
    "\n",
    "# fit the vectorizer object to train data\n",
    "vectorizer.fit(X_train)\n",
    "\n",
    "# get the BOW for train data\n",
    "X_train_BOW = vectorizer.transform(X_train)"
   ]
  },
  {
   "cell_type": "code",
   "execution_count": 17,
   "id": "20eae974",
   "metadata": {},
   "outputs": [
    {
     "data": {
      "text/html": [
       "<div>\n",
       "<style scoped>\n",
       "    .dataframe tbody tr th:only-of-type {\n",
       "        vertical-align: middle;\n",
       "    }\n",
       "\n",
       "    .dataframe tbody tr th {\n",
       "        vertical-align: top;\n",
       "    }\n",
       "\n",
       "    .dataframe thead th {\n",
       "        text-align: right;\n",
       "    }\n",
       "</style>\n",
       "<table border=\"1\" class=\"dataframe\">\n",
       "  <thead>\n",
       "    <tr style=\"text-align: right;\">\n",
       "      <th></th>\n",
       "      <th>0</th>\n",
       "      <th>1</th>\n",
       "      <th>2</th>\n",
       "      <th>3</th>\n",
       "      <th>4</th>\n",
       "      <th>5</th>\n",
       "      <th>6</th>\n",
       "      <th>7</th>\n",
       "      <th>8</th>\n",
       "      <th>9</th>\n",
       "      <th>...</th>\n",
       "      <th>19627</th>\n",
       "      <th>19628</th>\n",
       "      <th>19629</th>\n",
       "      <th>19630</th>\n",
       "      <th>19631</th>\n",
       "      <th>19632</th>\n",
       "      <th>19633</th>\n",
       "      <th>19634</th>\n",
       "      <th>19635</th>\n",
       "      <th>19636</th>\n",
       "    </tr>\n",
       "  </thead>\n",
       "  <tbody>\n",
       "    <tr>\n",
       "      <th>able</th>\n",
       "      <td>0</td>\n",
       "      <td>0</td>\n",
       "      <td>0</td>\n",
       "      <td>0</td>\n",
       "      <td>0</td>\n",
       "      <td>0</td>\n",
       "      <td>0</td>\n",
       "      <td>0</td>\n",
       "      <td>0</td>\n",
       "      <td>0</td>\n",
       "      <td>...</td>\n",
       "      <td>0</td>\n",
       "      <td>0</td>\n",
       "      <td>0</td>\n",
       "      <td>1</td>\n",
       "      <td>0</td>\n",
       "      <td>1</td>\n",
       "      <td>0</td>\n",
       "      <td>0</td>\n",
       "      <td>0</td>\n",
       "      <td>0</td>\n",
       "    </tr>\n",
       "    <tr>\n",
       "      <th>absolutely</th>\n",
       "      <td>0</td>\n",
       "      <td>0</td>\n",
       "      <td>0</td>\n",
       "      <td>0</td>\n",
       "      <td>0</td>\n",
       "      <td>0</td>\n",
       "      <td>0</td>\n",
       "      <td>0</td>\n",
       "      <td>0</td>\n",
       "      <td>0</td>\n",
       "      <td>...</td>\n",
       "      <td>0</td>\n",
       "      <td>0</td>\n",
       "      <td>3</td>\n",
       "      <td>0</td>\n",
       "      <td>0</td>\n",
       "      <td>0</td>\n",
       "      <td>0</td>\n",
       "      <td>0</td>\n",
       "      <td>0</td>\n",
       "      <td>0</td>\n",
       "    </tr>\n",
       "    <tr>\n",
       "      <th>actually</th>\n",
       "      <td>0</td>\n",
       "      <td>0</td>\n",
       "      <td>0</td>\n",
       "      <td>0</td>\n",
       "      <td>0</td>\n",
       "      <td>0</td>\n",
       "      <td>0</td>\n",
       "      <td>1</td>\n",
       "      <td>0</td>\n",
       "      <td>0</td>\n",
       "      <td>...</td>\n",
       "      <td>0</td>\n",
       "      <td>0</td>\n",
       "      <td>0</td>\n",
       "      <td>0</td>\n",
       "      <td>0</td>\n",
       "      <td>1</td>\n",
       "      <td>0</td>\n",
       "      <td>0</td>\n",
       "      <td>0</td>\n",
       "      <td>0</td>\n",
       "    </tr>\n",
       "    <tr>\n",
       "      <th>add</th>\n",
       "      <td>0</td>\n",
       "      <td>0</td>\n",
       "      <td>0</td>\n",
       "      <td>0</td>\n",
       "      <td>0</td>\n",
       "      <td>0</td>\n",
       "      <td>0</td>\n",
       "      <td>0</td>\n",
       "      <td>0</td>\n",
       "      <td>1</td>\n",
       "      <td>...</td>\n",
       "      <td>0</td>\n",
       "      <td>0</td>\n",
       "      <td>0</td>\n",
       "      <td>0</td>\n",
       "      <td>0</td>\n",
       "      <td>0</td>\n",
       "      <td>0</td>\n",
       "      <td>1</td>\n",
       "      <td>0</td>\n",
       "      <td>0</td>\n",
       "    </tr>\n",
       "    <tr>\n",
       "      <th>added</th>\n",
       "      <td>0</td>\n",
       "      <td>0</td>\n",
       "      <td>0</td>\n",
       "      <td>0</td>\n",
       "      <td>0</td>\n",
       "      <td>0</td>\n",
       "      <td>0</td>\n",
       "      <td>0</td>\n",
       "      <td>0</td>\n",
       "      <td>0</td>\n",
       "      <td>...</td>\n",
       "      <td>0</td>\n",
       "      <td>0</td>\n",
       "      <td>0</td>\n",
       "      <td>0</td>\n",
       "      <td>0</td>\n",
       "      <td>0</td>\n",
       "      <td>0</td>\n",
       "      <td>0</td>\n",
       "      <td>0</td>\n",
       "      <td>0</td>\n",
       "    </tr>\n",
       "  </tbody>\n",
       "</table>\n",
       "<p>5 rows × 19637 columns</p>\n",
       "</div>"
      ],
      "text/plain": [
       "            0      1      2      3      4      5      6      7      8      \\\n",
       "able            0      0      0      0      0      0      0      0      0   \n",
       "absolutely      0      0      0      0      0      0      0      0      0   \n",
       "actually        0      0      0      0      0      0      0      1      0   \n",
       "add             0      0      0      0      0      0      0      0      0   \n",
       "added           0      0      0      0      0      0      0      0      0   \n",
       "\n",
       "            9      ...  19627  19628  19629  19630  19631  19632  19633  \\\n",
       "able            0  ...      0      0      0      1      0      1      0   \n",
       "absolutely      0  ...      0      0      3      0      0      0      0   \n",
       "actually        0  ...      0      0      0      0      0      1      0   \n",
       "add             1  ...      0      0      0      0      0      0      0   \n",
       "added           0  ...      0      0      0      0      0      0      0   \n",
       "\n",
       "            19634  19635  19636  \n",
       "able            0      0      0  \n",
       "absolutely      0      0      0  \n",
       "actually        0      0      0  \n",
       "add             1      0      0  \n",
       "added           0      0      0  \n",
       "\n",
       "[5 rows x 19637 columns]"
      ]
     },
     "execution_count": 17,
     "metadata": {},
     "output_type": "execute_result"
    }
   ],
   "source": [
    "# visualize BOW\n",
    "training_data_BOW = pd.DataFrame(data=X_train_BOW.toarray(), columns=vectorizer.get_feature_names_out()).T\n",
    "\n",
    "# display the last few rows of the dataframe\n",
    "training_data_BOW.head(5)"
   ]
  },
  {
   "cell_type": "markdown",
   "id": "b513f4db",
   "metadata": {},
   "source": [
    "A logistic regression model will be built using the bag of words above. By taking the bag of words as input, it will predict whether the text is positive or negative."
   ]
  },
  {
   "cell_type": "code",
   "execution_count": 18,
   "id": "832f5cb0",
   "metadata": {},
   "outputs": [],
   "source": [
    "from sklearn.linear_model import LogisticRegression"
   ]
  },
  {
   "cell_type": "code",
   "execution_count": 19,
   "id": "42e3c441",
   "metadata": {},
   "outputs": [
    {
     "data": {
      "text/html": [
       "<style>#sk-container-id-1 {color: black;background-color: white;}#sk-container-id-1 pre{padding: 0;}#sk-container-id-1 div.sk-toggleable {background-color: white;}#sk-container-id-1 label.sk-toggleable__label {cursor: pointer;display: block;width: 100%;margin-bottom: 0;padding: 0.3em;box-sizing: border-box;text-align: center;}#sk-container-id-1 label.sk-toggleable__label-arrow:before {content: \"▸\";float: left;margin-right: 0.25em;color: #696969;}#sk-container-id-1 label.sk-toggleable__label-arrow:hover:before {color: black;}#sk-container-id-1 div.sk-estimator:hover label.sk-toggleable__label-arrow:before {color: black;}#sk-container-id-1 div.sk-toggleable__content {max-height: 0;max-width: 0;overflow: hidden;text-align: left;background-color: #f0f8ff;}#sk-container-id-1 div.sk-toggleable__content pre {margin: 0.2em;color: black;border-radius: 0.25em;background-color: #f0f8ff;}#sk-container-id-1 input.sk-toggleable__control:checked~div.sk-toggleable__content {max-height: 200px;max-width: 100%;overflow: auto;}#sk-container-id-1 input.sk-toggleable__control:checked~label.sk-toggleable__label-arrow:before {content: \"▾\";}#sk-container-id-1 div.sk-estimator input.sk-toggleable__control:checked~label.sk-toggleable__label {background-color: #d4ebff;}#sk-container-id-1 div.sk-label input.sk-toggleable__control:checked~label.sk-toggleable__label {background-color: #d4ebff;}#sk-container-id-1 input.sk-hidden--visually {border: 0;clip: rect(1px 1px 1px 1px);clip: rect(1px, 1px, 1px, 1px);height: 1px;margin: -1px;overflow: hidden;padding: 0;position: absolute;width: 1px;}#sk-container-id-1 div.sk-estimator {font-family: monospace;background-color: #f0f8ff;border: 1px dotted black;border-radius: 0.25em;box-sizing: border-box;margin-bottom: 0.5em;}#sk-container-id-1 div.sk-estimator:hover {background-color: #d4ebff;}#sk-container-id-1 div.sk-parallel-item::after {content: \"\";width: 100%;border-bottom: 1px solid gray;flex-grow: 1;}#sk-container-id-1 div.sk-label:hover label.sk-toggleable__label {background-color: #d4ebff;}#sk-container-id-1 div.sk-serial::before {content: \"\";position: absolute;border-left: 1px solid gray;box-sizing: border-box;top: 0;bottom: 0;left: 50%;z-index: 0;}#sk-container-id-1 div.sk-serial {display: flex;flex-direction: column;align-items: center;background-color: white;padding-right: 0.2em;padding-left: 0.2em;position: relative;}#sk-container-id-1 div.sk-item {position: relative;z-index: 1;}#sk-container-id-1 div.sk-parallel {display: flex;align-items: stretch;justify-content: center;background-color: white;position: relative;}#sk-container-id-1 div.sk-item::before, #sk-container-id-1 div.sk-parallel-item::before {content: \"\";position: absolute;border-left: 1px solid gray;box-sizing: border-box;top: 0;bottom: 0;left: 50%;z-index: -1;}#sk-container-id-1 div.sk-parallel-item {display: flex;flex-direction: column;z-index: 1;position: relative;background-color: white;}#sk-container-id-1 div.sk-parallel-item:first-child::after {align-self: flex-end;width: 50%;}#sk-container-id-1 div.sk-parallel-item:last-child::after {align-self: flex-start;width: 50%;}#sk-container-id-1 div.sk-parallel-item:only-child::after {width: 0;}#sk-container-id-1 div.sk-dashed-wrapped {border: 1px dashed gray;margin: 0 0.4em 0.5em 0.4em;box-sizing: border-box;padding-bottom: 0.4em;background-color: white;}#sk-container-id-1 div.sk-label label {font-family: monospace;font-weight: bold;display: inline-block;line-height: 1.2em;}#sk-container-id-1 div.sk-label-container {text-align: center;}#sk-container-id-1 div.sk-container {/* jupyter's `normalize.less` sets `[hidden] { display: none; }` but bootstrap.min.css set `[hidden] { display: none !important; }` so we also need the `!important` here to be able to override the default hidden behavior on the sphinx rendered scikit-learn.org. See: https://github.com/scikit-learn/scikit-learn/issues/21755 */display: inline-block !important;position: relative;}#sk-container-id-1 div.sk-text-repr-fallback {display: none;}</style><div id=\"sk-container-id-1\" class=\"sk-top-container\"><div class=\"sk-text-repr-fallback\"><pre>LogisticRegression(random_state=RandomState(MT19937) at 0x7FFF9BFC9A40)</pre><b>In a Jupyter environment, please rerun this cell to show the HTML representation or trust the notebook. <br />On GitHub, the HTML representation is unable to render, please try loading this page with nbviewer.org.</b></div><div class=\"sk-container\" hidden><div class=\"sk-item\"><div class=\"sk-estimator sk-toggleable\"><input class=\"sk-toggleable__control sk-hidden--visually\" id=\"sk-estimator-id-1\" type=\"checkbox\" checked><label for=\"sk-estimator-id-1\" class=\"sk-toggleable__label sk-toggleable__label-arrow\">LogisticRegression</label><div class=\"sk-toggleable__content\"><pre>LogisticRegression(random_state=RandomState(MT19937) at 0x7FFF9BFC9A40)</pre></div></div></div></div></div>"
      ],
      "text/plain": [
       "LogisticRegression(random_state=RandomState(MT19937) at 0x7FFF9BFC9A40)"
      ]
     },
     "execution_count": 19,
     "metadata": {},
     "output_type": "execute_result"
    }
   ],
   "source": [
    "# define lgositic regression model object\n",
    "log_reg = LogisticRegression(random_state=random_state)\n",
    "\n",
    "# fit the model to training data\n",
    "log_reg.fit(X_train_BOW, y_train)"
   ]
  },
  {
   "cell_type": "code",
   "execution_count": 20,
   "id": "8cfcbc9f",
   "metadata": {},
   "outputs": [
    {
     "data": {
      "text/plain": [
       "array(['pos', 'pos', 'pos', ..., 'pos', 'neg', 'pos'], dtype=object)"
      ]
     },
     "execution_count": 20,
     "metadata": {},
     "output_type": "execute_result"
    }
   ],
   "source": [
    "# make prediction on test data\n",
    "\n",
    "# create BOW for test data\n",
    "X_test_BOW = vectorizer.transform(X_test)\n",
    "\n",
    "# predict using log_reg object\n",
    "y_test_log_reg_predictions = log_reg.predict(X_test_BOW)\n",
    "\n",
    "# view the predictions\n",
    "y_test_log_reg_predictions"
   ]
  },
  {
   "cell_type": "markdown",
   "id": "a9a1b02d",
   "metadata": {},
   "source": [
    "#### Explanation\n",
    "Before creatiing a logistic regression model the data was first split into two parts. Train (70%) will be used in order to develop the model and Test (30%) will be used to evaluate the model. The text is unstructured data and so is converted into a numerical representation using the bag of words model. The outcome vector represents how freqeunt each word appears in each review. Logistic regression can then be performed using the train set with BoW as input to determine the relationship between the frequency of words and sentiment. This can then be used to predict whether other reviews are positive or negative."
   ]
  },
  {
   "cell_type": "markdown",
   "id": "9f8486c7",
   "metadata": {},
   "source": [
    "## Task 4: Evaluate"
   ]
  },
  {
   "cell_type": "markdown",
   "id": "d98af282",
   "metadata": {},
   "source": [
    "### a)"
   ]
  },
  {
   "cell_type": "code",
   "execution_count": 21,
   "id": "dab13398",
   "metadata": {},
   "outputs": [],
   "source": [
    "from sklearn.metrics import accuracy_score\n",
    "from sklearn.metrics import precision_score\n",
    "from sklearn.metrics import recall_score\n",
    "from sklearn.metrics import f1_score"
   ]
  },
  {
   "cell_type": "markdown",
   "id": "e0c67f9e",
   "metadata": {},
   "source": [
    "Create baseline model where all reviews are positive."
   ]
  },
  {
   "cell_type": "code",
   "execution_count": 22,
   "id": "01d99601",
   "metadata": {},
   "outputs": [],
   "source": [
    "# Baseline model assigns \"Pos\" to all test data\n",
    "y_test_baseline_predictions = pd.Series(['pos']*len(y_test))"
   ]
  },
  {
   "cell_type": "code",
   "execution_count": 23,
   "id": "f98cd81d",
   "metadata": {
    "scrolled": true
   },
   "outputs": [
    {
     "name": "stderr",
     "output_type": "stream",
     "text": [
      "/usr/local/lib/python3.9/dist-packages/sklearn/metrics/_classification.py:1327: UndefinedMetricWarning: Precision is ill-defined and being set to 0.0 due to no predicted samples. Use `zero_division` parameter to control this behavior.\n",
      "  _warn_prf(average, modifier, msg_start, len(result))\n"
     ]
    },
    {
     "name": "stdout",
     "output_type": "stream",
     "text": [
      "Baseline: {'accuracy': 0.83, 'precision': 0.0, 'recall': 0.0, 'f1-score': 0.0}\n",
      "Logisticregression: {'accuracy': 0.89, 'precision': 0.72, 'recall': 0.55, 'f1-score': 0.62}\n"
     ]
    }
   ],
   "source": [
    "y_test_log_reg_metrics = {}\n",
    "y_test_baseline_metrics = {}\n",
    "\n",
    "# in format {‘accuracy’:0.0, ‘precision’:0.0, ’recall’:0.0, ‘f1-score’:0.0}\n",
    "\n",
    "# Get accuracy\n",
    "y_test_log_reg_metrics[\"accuracy\"] = round(accuracy_score(y_test, y_test_log_reg_predictions), 2)\n",
    "y_test_baseline_metrics[\"accuracy\"] = round(accuracy_score(y_test, y_test_baseline_predictions), 2)\n",
    "\n",
    "# Get precision\n",
    "y_test_log_reg_metrics[\"precision\"] = round(precision_score(y_test, y_test_log_reg_predictions, pos_label=\"neg\"), 2)\n",
    "y_test_baseline_metrics[\"precision\"] = round(precision_score(y_test, y_test_baseline_predictions, pos_label=\"neg\"), 2)\n",
    "\n",
    "\n",
    "# Get recall\n",
    "y_test_log_reg_metrics[\"recall\"] = round(recall_score(y_test, y_test_log_reg_predictions, pos_label=\"neg\"), 2)\n",
    "y_test_baseline_metrics[\"recall\"] = round(recall_score(y_test, y_test_baseline_predictions, pos_label=\"neg\"), 2)\n",
    "\n",
    "\n",
    "# Get f1-score\n",
    "y_test_log_reg_metrics[\"f1-score\"] = round(f1_score(y_test, y_test_log_reg_predictions, pos_label=\"neg\"), 2)\n",
    "y_test_baseline_metrics[\"f1-score\"] = round(f1_score(y_test, y_test_baseline_predictions, pos_label=\"neg\"), 2)\n",
    "\n",
    "\n",
    "\n",
    "print(f\"Baseline: {y_test_baseline_metrics}\")\n",
    "print(f\"Logisticregression: {y_test_log_reg_metrics}\")"
   ]
  },
  {
   "cell_type": "markdown",
   "id": "426edfbc",
   "metadata": {},
   "source": [
    "As seen above:\n",
    "* Accuracy: The baseline model guesses the correct label 83% of the time, while the logistic regressions is correct 88% of the time\n",
    "* Precision (neg) : The baseline model is 0 as it does not guess negative at all. For logistic regression, when predicting negative, 71% of the time the actual value is also positive.\n",
    "* Recall (neg) : The baseline model is 0 as it does not guess negative at all. For logistic regression, the model correctly guessed a negative review as negative 54% of the time.\n",
    "* f1-score (neg) : The baseline model is 0 as it does not guess negative at all. For logistic regression, the model scored 0.61, taking into account precision and recall.\n",
    "\n",
    "Although the baseline model had an accuracy of 83%, it only got this because 83% of the reviews in the test set were positive. The baseline model had an f1-score of 0 as it since it is all pos, it was not able to correctly identify even 1 review as negative. This is why the f1-score is 0, despite a high accuracy."
   ]
  },
  {
   "cell_type": "markdown",
   "id": "83306ff3",
   "metadata": {},
   "source": [
    "### b)"
   ]
  },
  {
   "cell_type": "code",
   "execution_count": 24,
   "id": "2def5cb1",
   "metadata": {},
   "outputs": [],
   "source": [
    "from sklearn.metrics import ConfusionMatrixDisplay, confusion_matrix"
   ]
  },
  {
   "cell_type": "markdown",
   "id": "6b672cad",
   "metadata": {},
   "source": [
    "### Baseline model confusion matrix"
   ]
  },
  {
   "cell_type": "code",
   "execution_count": 25,
   "id": "4b2f6eb2",
   "metadata": {},
   "outputs": [
    {
     "data": {
      "image/png": "[encoded data removed]",
      "text/plain": [
       "<Figure size 432x288 with 2 Axes>"
      ]
     },
     "metadata": {
      "needs_background": "light"
     },
     "output_type": "display_data"
    }
   ],
   "source": [
    "cm = confusion_matrix(y_test, y_test_baseline_predictions)\n",
    "display = ConfusionMatrixDisplay(confusion_matrix=cm, display_labels=log_reg.classes_)\n",
    "display.plot();"
   ]
  },
  {
   "cell_type": "markdown",
   "id": "7e2dfb97",
   "metadata": {},
   "source": [
    "The baseline model:\n",
    "\n",
    "* correctly identified 0 negative sentiment tweets as negative. (True Negative - TN)\n",
    "* correctly identified 6974 positive sentiment tweets as positive. (True Positive - TP)\n",
    "* incorrectly identified 0 positive sentiment tweets as negative. (False Negative - FN)\n",
    "* incorrectly identified 1443 negative sentiment tweets as positive. (False Positive - FP)"
   ]
  },
  {
   "cell_type": "markdown",
   "id": "4e5333d4",
   "metadata": {},
   "source": [
    "### Logistics regression model confusion matrix"
   ]
  },
  {
   "cell_type": "code",
   "execution_count": 26,
   "id": "3c1b5470",
   "metadata": {},
   "outputs": [
    {
     "data": {
      "image/png": "[encoded data removed]",
      "text/plain": [
       "<Figure size 432x288 with 2 Axes>"
      ]
     },
     "metadata": {
      "needs_background": "light"
     },
     "output_type": "display_data"
    }
   ],
   "source": [
    "cm = confusion_matrix(y_test, y_test_log_reg_predictions)\n",
    "display = ConfusionMatrixDisplay(confusion_matrix=cm, display_labels=log_reg.classes_)\n",
    "display.plot();"
   ]
  },
  {
   "cell_type": "markdown",
   "id": "88cf9509",
   "metadata": {},
   "source": [
    "The logistics regression model:\n",
    "\n",
    "* correctly identified 782 negative sentiment tweets as negative. (True Negative - TN)\n",
    "* correctly identified 6657 positive sentiment tweets as positive. (True Positive - TP)\n",
    "* incorrectly identified 317 positive sentiment tweets as negative. (False Negative - FN)\n",
    "* incorrectly identified 661 negative sentiment tweets as positive. (False Positive - FP)"
   ]
  },
  {
   "cell_type": "markdown",
   "id": "28597cc2",
   "metadata": {},
   "source": [
    "## Task 5: Predictions"
   ]
  },
  {
   "cell_type": "code",
   "execution_count": 27,
   "id": "93812c44",
   "metadata": {},
   "outputs": [
    {
     "data": {
      "text/html": [
       "<div>\n",
       "<style scoped>\n",
       "    .dataframe tbody tr th:only-of-type {\n",
       "        vertical-align: middle;\n",
       "    }\n",
       "\n",
       "    .dataframe tbody tr th {\n",
       "        vertical-align: top;\n",
       "    }\n",
       "\n",
       "    .dataframe thead th {\n",
       "        text-align: right;\n",
       "    }\n",
       "</style>\n",
       "<table border=\"1\" class=\"dataframe\">\n",
       "  <thead>\n",
       "    <tr style=\"text-align: right;\">\n",
       "      <th></th>\n",
       "      <th>Id</th>\n",
       "      <th>Text</th>\n",
       "      <th>Model Prediction</th>\n",
       "    </tr>\n",
       "  </thead>\n",
       "  <tbody>\n",
       "    <tr>\n",
       "      <th>0</th>\n",
       "      <td>1</td>\n",
       "      <td>The candy is tasty, but they totally scam you ...</td>\n",
       "      <td>pos</td>\n",
       "    </tr>\n",
       "    <tr>\n",
       "      <th>1</th>\n",
       "      <td>2</td>\n",
       "      <td>I had been looking for the violet candy with t...</td>\n",
       "      <td>pos</td>\n",
       "    </tr>\n",
       "    <tr>\n",
       "      <th>2</th>\n",
       "      <td>3</td>\n",
       "      <td>these are very pricey so i only enjoy them now...</td>\n",
       "      <td>pos</td>\n",
       "    </tr>\n",
       "    <tr>\n",
       "      <th>3</th>\n",
       "      <td>4</td>\n",
       "      <td>These candies have a mild flavor, when compare...</td>\n",
       "      <td>pos</td>\n",
       "    </tr>\n",
       "    <tr>\n",
       "      <th>4</th>\n",
       "      <td>5</td>\n",
       "      <td>This product is a bit pricey for the amt. rece...</td>\n",
       "      <td>neg</td>\n",
       "    </tr>\n",
       "  </tbody>\n",
       "</table>\n",
       "</div>"
      ],
      "text/plain": [
       "   Id                                               Text Model Prediction\n",
       "0   1  The candy is tasty, but they totally scam you ...              pos\n",
       "1   2  I had been looking for the violet candy with t...              pos\n",
       "2   3  these are very pricey so i only enjoy them now...              pos\n",
       "3   4  These candies have a mild flavor, when compare...              pos\n",
       "4   5  This product is a bit pricey for the amt. rece...              neg"
      ]
     },
     "execution_count": 27,
     "metadata": {},
     "output_type": "execute_result"
    }
   ],
   "source": [
    "# make prediction on predict data\n",
    "predictdata = pd.read_csv(\"predictdata.csv\")\n",
    "\n",
    "# Clean data text column\n",
    "predict_test = predictdata[\"Text\"].copy().apply(clean_text)\n",
    "\n",
    "# create BOW for test data\n",
    "predict_test_BOW = vectorizer.transform(predict_test)\n",
    "\n",
    "# predict using log_reg object\n",
    "predict_tes_log_reg_predictions = log_reg.predict(predict_test_BOW)\n",
    "\n",
    "# Add column to dataframe\n",
    "predictdata[\"Model Prediction\"] = predict_tes_log_reg_predictions\n",
    "\n",
    "# view the predictions\n",
    "predictdata"
   ]
  },
  {
   "cell_type": "markdown",
   "id": "97ab8736",
   "metadata": {},
   "source": [
    "The table above shows the predictions made based on the cleaned text. Upon inspection, the model seemed to have gotten id 2,3,4 correct but id 1,5 incorrect. Suprisingly, for this small sample size, the baseline model would have performed better. This is unlikely to occur for larger sample sizes."
   ]
  },
  {
   "cell_type": "markdown",
   "id": "2bedbed9",
   "metadata": {},
   "source": [
    "## Task 6\n",
    "### Word Cloud"
   ]
  },
  {
   "cell_type": "code",
   "execution_count": 28,
   "id": "42fdb4e7",
   "metadata": {},
   "outputs": [],
   "source": [
    "# !pip install wordcloud\n",
    "from wordcloud import WordCloud\n",
    "from matplotlib import pyplot as plt"
   ]
  },
  {
   "cell_type": "code",
   "execution_count": 29,
   "id": "3a9e75f4",
   "metadata": {},
   "outputs": [
    {
     "data": {
      "image/png": "[encoded data removed]",
      "text/plain": [
       "<Figure size 432x288 with 1 Axes>"
      ]
     },
     "metadata": {
      "needs_background": "light"
     },
     "output_type": "display_data"
    }
   ],
   "source": [
    "text = \" \".join(X_train)\n",
    "word_cloud = WordCloud(stopwords=set(stop_words)).generate(text)\n",
    "plt.imshow(word_cloud, interpolation='bilinear');"
   ]
  },
  {
   "cell_type": "markdown",
   "id": "6aa70ccb",
   "metadata": {},
   "source": [
    "Shown above is a word cloud visualisation of the frequency of each the words in the tran dataset. Some of the most common words that appear in the reviews of the train dataset are 'one', 'love', 'taste', 'product' and like."
   ]
  },
  {
   "cell_type": "markdown",
   "id": "269baa02",
   "metadata": {},
   "source": [
    "### Identifying important words for predictions"
   ]
  },
  {
   "cell_type": "code",
   "execution_count": 30,
   "id": "75c47f31",
   "metadata": {},
   "outputs": [],
   "source": [
    "# function adapted from https://aneesha.medium.com/visualising-top-features-in-linear-svm-with-scikit-learn-and-matplotlib-3454ab18a14d\n",
    "def plot_coefficients(classifier, feature_names, top_features=10):\n",
    "    coef = classifier.coef_.ravel()\n",
    "    top_positive_coefficients = np.argsort(coef)[-top_features:]\n",
    "    top_negative_coefficients = np.argsort(coef)[:top_features]\n",
    "    top_coefficients = np.hstack([top_negative_coefficients, top_positive_coefficients])\n",
    "    # create plot\n",
    "    plt.figure(figsize=(15, 5))\n",
    "    colors = ['red' if c < 0 else 'blue' for c in coef[top_coefficients]]\n",
    "    plt.bar(np.arange(2 * top_features), coef[top_coefficients], color=colors)\n",
    "    feature_names = np.array(feature_names)\n",
    "    plt.xticks(np.arange(0, 2 * top_features), feature_names[top_coefficients], rotation=90, ha='right')\n",
    "    plt.xlabel(\"Important Words\")\n",
    "    plt.ylabel(\"Model Coefficient\")\n",
    "    plt.title(\"Important words with their model coefficient\")\n",
    "    plt.show()"
   ]
  },
  {
   "cell_type": "code",
   "execution_count": 31,
   "id": "3b431c1f",
   "metadata": {},
   "outputs": [
    {
     "name": "stderr",
     "output_type": "stream",
     "text": [
      "/usr/local/lib/python3.9/dist-packages/sklearn/utils/deprecation.py:87: FutureWarning: Function get_feature_names is deprecated; get_feature_names is deprecated in 1.0 and will be removed in 1.2. Please use get_feature_names_out instead.\n",
      "  warnings.warn(msg, category=FutureWarning)\n"
     ]
    },
    {
     "data": {
      "image/png": "[encoded data removed]",
      "text/plain": [
       "<Figure size 1080x360 with 1 Axes>"
      ]
     },
     "metadata": {
      "needs_background": "light"
     },
     "output_type": "display_data"
    }
   ],
   "source": [
    "plot_coefficients(log_reg, vectorizer.get_feature_names())"
   ]
  },
  {
   "cell_type": "markdown",
   "id": "7df0d21d",
   "metadata": {},
   "source": [
    "The graph above show which words play a significant role in classifying the sentiment of the review, with red bars representing negative words and blue bars representing positive words. It can be seen that the words 'dissapointed', 'waste' and 'unfortunately' suggest a higher likelyhood that the review is negative. On the otherhand, the words 'awesome', 'excellent' and 'perfect' suggest a higher likelyhood that the review is negative."
   ]
  },
  {
   "cell_type": "markdown",
   "id": "0e1240ed",
   "metadata": {},
   "source": [
    "## Task 7: Classification with unbalanced data"
   ]
  },
  {
   "cell_type": "markdown",
   "id": "6a338cea",
   "metadata": {},
   "source": [
    "The issue with imbalanced classification is that the since the data is skewed, the model cannot gather enough information from the minority class to make an accurate prediction. Instead, predicting just the majority class will already result in a high accuracy, and the model will fail to identify minority class, rather treating it as an anomaly. A solution to counter act this is to resample the data using random over-sampling. By resampling the minority data to be of equal size to the majority, the model can use information equally from both classes without losing information (as opposed to under sampling), which could result in better predictions."
   ]
  }
 ],
 "metadata": {
  "kernelspec": {
   "display_name": "Python 3 (ipykernel)",
   "language": "python",
   "name": "python3"
  },
  "language_info": {
   "codemirror_mode": {
    "name": "ipython",
    "version": 3
   },
   "file_extension": ".py",
   "mimetype": "text/x-python",
   "name": "python",
   "nbconvert_exporter": "python",
   "pygments_lexer": "ipython3",
   "version": "3.9.13"
  }
 },
 "nbformat": 4,
 "nbformat_minor": 5
}
